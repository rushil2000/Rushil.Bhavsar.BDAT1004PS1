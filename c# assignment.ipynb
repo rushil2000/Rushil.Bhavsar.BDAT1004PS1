{
 "cells": [
  {
   "cell_type": "markdown",
   "id": "c46bd07e",
   "metadata": {},
   "source": [
    "# Question 1"
   ]
  },
  {
   "cell_type": "markdown",
   "id": "9c3c4343",
   "metadata": {},
   "source": [
    "What data type is each of the following?"
   ]
  },
  {
   "cell_type": "code",
   "execution_count": 4,
   "id": "ebd85ce3",
   "metadata": {},
   "outputs": [
    {
     "name": "stdout",
     "output_type": "stream",
     "text": [
      "System.Int32\r\n"
     ]
    }
   ],
   "source": [
    "dynamic b = 5 ;\n",
    "Console.WriteLine(b.GetType());"
   ]
  },
  {
   "cell_type": "code",
   "execution_count": 5,
   "id": "b068503b",
   "metadata": {},
   "outputs": [
    {
     "name": "stdout",
     "output_type": "stream",
     "text": [
      "System.Double\r\n"
     ]
    }
   ],
   "source": [
    "dynamic b = 5.0 ;\n",
    "Console.WriteLine(b.GetType());"
   ]
  },
  {
   "cell_type": "code",
   "execution_count": 6,
   "id": "f1823525",
   "metadata": {},
   "outputs": [
    {
     "name": "stdout",
     "output_type": "stream",
     "text": [
      "System.Boolean\r\n"
     ]
    }
   ],
   "source": [
    "dynamic b = 5 > 1 ;\n",
    "Console.WriteLine(b.GetType());"
   ]
  },
  {
   "cell_type": "code",
   "execution_count": 7,
   "id": "631633e1",
   "metadata": {},
   "outputs": [
    {
     "name": "stdout",
     "output_type": "stream",
     "text": [
      "System.Char\r\n"
     ]
    }
   ],
   "source": [
    "dynamic b = '5' ;\n",
    "Console.WriteLine(b.GetType());"
   ]
  },
  {
   "cell_type": "code",
   "execution_count": 8,
   "id": "c89f24a2",
   "metadata": {},
   "outputs": [
    {
     "name": "stdout",
     "output_type": "stream",
     "text": [
      "System.Int32\r\n"
     ]
    }
   ],
   "source": [
    "dynamic b = 5 * 2 ;\n",
    "Console.WriteLine(b.GetType());"
   ]
  },
  {
   "cell_type": "code",
   "execution_count": 9,
   "id": "33605a60",
   "metadata": {},
   "outputs": [
    {
     "name": "stdout",
     "output_type": "stream",
     "text": [
      "System.Int32\r\n"
     ]
    }
   ],
   "source": [
    "dynamic b = '5' * 2 ;\n",
    "Console.WriteLine(b.GetType());"
   ]
  },
  {
   "cell_type": "code",
   "execution_count": 10,
   "id": "48ae2605",
   "metadata": {},
   "outputs": [
    {
     "name": "stdout",
     "output_type": "stream",
     "text": [
      "System.Int32\r\n"
     ]
    }
   ],
   "source": [
    "dynamic b = '5' + '2' ;\n",
    "Console.WriteLine(b.GetType()); "
   ]
  },
  {
   "cell_type": "code",
   "execution_count": 11,
   "id": "312365fa",
   "metadata": {},
   "outputs": [
    {
     "name": "stdout",
     "output_type": "stream",
     "text": [
      "System.Int32\r\n"
     ]
    }
   ],
   "source": [
    "dynamic b = 5 / 2 ;\n",
    "Console.WriteLine(b.GetType()); "
   ]
  },
  {
   "cell_type": "code",
   "execution_count": 12,
   "id": "68e6ca36",
   "metadata": {},
   "outputs": [
    {
     "name": "stdout",
     "output_type": "stream",
     "text": [
      "System.Int32\r\n"
     ]
    }
   ],
   "source": [
    "dynamic b = 5 % 2 ;\n",
    "Console.WriteLine(b.GetType()); "
   ]
  },
  {
   "cell_type": "code",
   "execution_count": 18,
   "id": "6a391811",
   "metadata": {},
   "outputs": [
    {
     "name": "stdout",
     "output_type": "stream",
     "text": [
      "System.Object[]\r\n"
     ]
    }
   ],
   "source": [
    "dynamic [] a = {5, 2, 1};\n",
    "Console.WriteLine(a.GetType()); "
   ]
  },
  {
   "cell_type": "code",
   "execution_count": 26,
   "id": "21516b7f",
   "metadata": {},
   "outputs": [
    {
     "name": "stdout",
     "output_type": "stream",
     "text": [
      "System.Boolean\r\n"
     ]
    }
   ],
   "source": [
    "dynamic b = 5 == 3 ;\n",
    "Console.WriteLine(b.GetType());"
   ]
  },
  {
   "cell_type": "code",
   "execution_count": 30,
   "id": "25eca100",
   "metadata": {},
   "outputs": [
    {
     "name": "stdout",
     "output_type": "stream",
     "text": [
      "System.String\r\n"
     ]
    }
   ],
   "source": [
    "dynamic b = \"PI (the number)\" ;\n",
    "Console.WriteLine(b.GetType());"
   ]
  },
  {
   "cell_type": "markdown",
   "id": "11c1df3b",
   "metadata": {},
   "source": [
    "# Question 2"
   ]
  },
  {
   "cell_type": "markdown",
   "id": "3fe882a2",
   "metadata": {},
   "source": [
    "Write (and evaluate) C# expressions that answer these questions:                                                       \n",
    "a. How many letters are there in 'Supercalifragilisticexpialidocious'?\n"
   ]
  },
  {
   "cell_type": "code",
   "execution_count": 3,
   "id": "e3cb838e",
   "metadata": {},
   "outputs": [
    {
     "name": "stdout",
     "output_type": "stream",
     "text": [
      "The output is:-\n",
      "Number of Characters in this stirng are:34\n",
      "================================================================\n"
     ]
    }
   ],
   "source": [
    "String a =\"Supercalifragilisticexpialidocious\";\n",
    "int count = 0;\n",
    "foreach(char b in a)\n",
    "{\n",
    "    count =count + 1;\n",
    "}\n",
    "Console.WriteLine(\"The output is:-\");\n",
    "Console.WriteLine(\"Number of Characters in this stirng are:\"+count);\n",
    "Console.WriteLine(\"================================================================\");"
   ]
  },
  {
   "cell_type": "markdown",
   "id": "27c6ac37",
   "metadata": {},
   "source": [
    "b.Does 'Supercalifragilisticexpialidocious' contain 'ice' as a substring? "
   ]
  },
  {
   "cell_type": "code",
   "execution_count": 4,
   "id": "4637239e",
   "metadata": {},
   "outputs": [
    {
     "name": "stdout",
     "output_type": "stream",
     "text": [
      "The output is:-\n",
      "ice is a substring of:Supercalifragilisticexpialidocious\n",
      "================================================================\n"
     ]
    }
   ],
   "source": [
    "String S1 =\"Supercalifragilisticexpialidocious\";\n",
    "String S2 = \"ice\";\n",
    "if(S1.Contains(S2))\n",
    "    {\n",
    "        Console.WriteLine(\"The output is:-\");\n",
    "        Console.WriteLine(\"\"+S2+\" is a substring of:\"+S1);\n",
    "        Console.WriteLine(\"================================================================\");\n",
    "    }\n",
    "\n"
   ]
  },
  {
   "cell_type": "markdown",
   "id": "c32435b8",
   "metadata": {},
   "source": [
    "c. Which of the following words is the longest:\n",
    "Supercalifragilisticexpialidocious, Honorificabilitudinitatibus, or\n",
    "Bababadalgharaghtakamminarronnkonn? "
   ]
  },
  {
   "cell_type": "code",
   "execution_count": 7,
   "id": "8d6cedbd",
   "metadata": {},
   "outputs": [
    {
     "name": "stdout",
     "output_type": "stream",
     "text": [
      "Lengthiest word is/are 2 \n",
      "--------------------------------------------\n",
      "Supercalifragilisticexpialidocious\n",
      "Bababadalgharaghtakamminarronnkonn\n"
     ]
    }
   ],
   "source": [
    "string[] words = {                      \n",
    "                   \"Supercalifragilisticexpialidocious\",\n",
    "                   \"Honorificabilitudinitatibus\",\n",
    "                   \"Bababadalgharaghtakamminarronnkonn\"\n",
    "                 };\n",
    "                 \n",
    "string word = \"\";\n",
    "int WordLength = 0;\n",
    "List < string > longerWords = new List < string > ();\n",
    "String[] str;\n",
    "foreach(string s in words)\n",
    "{\n",
    "    if (s.Length >= WordLength)              // Used foreach loop to check the length of every word\n",
    "    {\n",
    "        word = s;\n",
    "        WordLength = s.Length;\n",
    "        longerWords.Add(word);              //adding words in a list \n",
    "        //str = longerWords.ToArray();\n",
    "    }\n",
    "}\n",
    "Console.WriteLine($\"Lengthiest word is/are {longerWords.Count} \"); //Counting the lengthiest words\n",
    "Console.WriteLine(\"--------------------------------------------\");\n",
    "\n",
    "foreach(string s in longerWords)    // Printing words using foreach loop\n",
    "{       \n",
    "    Console.WriteLine(s);\n",
    "}\n",
    "    "
   ]
  },
  {
   "cell_type": "markdown",
   "id": "d944786a",
   "metadata": {},
   "source": [
    "# Question 3"
   ]
  },
  {
   "cell_type": "markdown",
   "id": "949bd18b",
   "metadata": {},
   "source": [
    "Implement function triangleArea(a,b,c) that takes as input the lengths of the 3                                            \n",
    "sides of a triangle and returns the area of the triangle. By Heron's formula, the area                                         \n",
    "of a triangle with side lengths a, b, and c is                                                                                 \n",
    "s(s - a)(s -b)(s -c), where                                                                                                    \n",
    "s = (a+b+c)/2. "
   ]
  },
  {
   "cell_type": "code",
   "execution_count": 6,
   "id": "88504e3b",
   "metadata": {},
   "outputs": [
    {
     "name": "stdout",
     "output_type": "stream",
     "text": [
      "The output is:-\n",
      "Area of triangle is:1.7320508075688772\n",
      "================================================================\n"
     ]
    }
   ],
   "source": [
    "class Tri_area\n",
    "{\n",
    "    public void TriangularArea(int a, int b,int c)\n",
    "    {\n",
    "        int s = (a+b+c)/2;\n",
    "        int area = s*(s-a)*(s-b)*(s-c);\n",
    "        Console.WriteLine(\"Area of triangle is:\"+\"\"+Math.Sqrt(area));\n",
    "    }\n",
    "}\n",
    "Console.WriteLine(\"The output is:-\");\n",
    "Tri_area ta = new Tri_area();\n",
    "ta.TriangularArea(2,2,2);\n",
    "Console.WriteLine(\"================================================================\");"
   ]
  },
  {
   "cell_type": "markdown",
   "id": "d5e846db",
   "metadata": {},
   "source": [
    "# Question 4"
   ]
  },
  {
   "cell_type": "markdown",
   "id": "42b274bb",
   "metadata": {},
   "source": [
    "\n",
    "Write a program in C# Sharp to separate odd and even integers in separate arrays.\n",
    "Go to the editor\n",
    "Test Data :\n",
    "Input the number of elements to be stored in the array :5\n",
    "Input 5 elements in the array :\n",
    "element - 0 : 25\n",
    "element - 1 : 47\n",
    "element - 2 : 42\n",
    "element - 3 : 56\n",
    "element - 4 : 32"
   ]
  },
  {
   "cell_type": "code",
   "execution_count": null,
   "id": "06141005",
   "metadata": {},
   "outputs": [],
   "source": [
    "Console.Write(\"Input the number of elements to be stored in the array :\");\n",
    "int inpt = Convert.ToInt32(Console.ReadLine());\n",
    "int[] array = new int[inpt];\n",
    "int[] EvenArray;\n",
    "int[] OddArray;\n",
    "List<int> EvenNumber = new List<int>();\n",
    "List<int> OddNumber = new List<int>();\n",
    "Console.WriteLine($\"Input {inpt} elements in the array :\");\n",
    "for (int i = 0; i < 5; i++)\n",
    "{\n",
    "    Console.Write(\"element - {0} : \", i);\n",
    "    array[i] = Convert.ToInt32(Console.ReadLine());  // reading inputs from a console\n",
    "}\n",
    "\n",
    "for (int i = 0; i < 5; i++)\n",
    "{\n",
    "    //Console.Write(\"{0}  \", arr[i]);\n",
    "    if (array[i] % 2 == 0)\n",
    "    {       // separating numbers in 2 different arrays on basis of even and odd\n",
    "        EvenNumber.Add(array[i]);\n",
    "        EvenArray = EvenNumber.ToArray();\n",
    "    }\n",
    "    else\n",
    "    {\n",
    "        OddNumber.Add(array[i]);\n",
    "        OddArray = OddNumber.ToArray();\n",
    "    }\n",
    "}\n",
    "\n",
    "Console.WriteLine(\"\\nThe Even elements are:\");\n",
    "\n",
    "foreach (int i in EvenNumber)\n",
    "{        // printing even nos.\n",
    "    Console.Write($\"{i}\\t\");\n",
    "}\n",
    "\n",
    "Console.WriteLine(\"\\nThe Odd elements are:\");\n",
    "foreach (int i in OddNumber)\n",
    "{         // printing odd nos.\n",
    "    Console.Write($\"{i}\\t\");\n",
    "}\n",
    "Console.WriteLine(\"\\n\");"
   ]
  },
  {
   "attachments": {
    "data.png": {
     "image/png": "[encoded data removed]"
    }
   },
   "cell_type": "markdown",
   "id": "4a18262a",
   "metadata": {},
   "source": [
    "\n",
    "![data.png](attachment:data.png)"
   ]
  },
  {
   "cell_type": "markdown",
   "id": "5e99d1cb",
   "metadata": {},
   "source": [
    "# Question 5"
   ]
  },
  {
   "cell_type": "markdown",
   "id": "99d3b584",
   "metadata": {},
   "source": [
    "\n",
    "a. Write a function inside(x,y,x1,y1,x2,y2) that returns True or False\n",
    "depending on whether the point (x,y) lies in the rectangle with lower left\n",
    "corner (x1,y1) and upper right corner (x2,y2).                                                                                   "
   ]
  },
  {
   "cell_type": "code",
   "execution_count": 4,
   "id": "8ebd9b30",
   "metadata": {},
   "outputs": [
    {
     "name": "stdout",
     "output_type": "stream",
     "text": [
      "----------a.--------\n",
      "\n",
      "inside(1,1,0,0,2,3):True\n",
      "inside(-1,-1,0,0,2,3):False\n",
      "\n"
     ]
    }
   ],
   "source": [
    "public static bool inside(double a, double b, double a1, double b1, double a2, double b2)\n",
    "{\n",
    "    // points - a,b, lower left corner - a1,b1, upper right corner - a2,b2.   \n",
    "\n",
    "    if (a > a1 && a < a2 &&\n",
    "        b > b1 && b < b2)\n",
    "        return true;\n",
    "\n",
    "    return false;\n",
    "}\n",
    "\n",
    "Console.WriteLine(\"----------a.--------\\n\");\n",
    "Console.WriteLine($\"inside(1,1,0,0,2,3):{inside(1,1,0,0,2,3)}\");\n",
    "Console.WriteLine($\"inside(-1,-1,0,0,2,3):{inside(-1,-1,0,0,2,3)}\\n\");\n",
    "\n",
    "\n",
    "\n"
   ]
  },
  {
   "cell_type": "markdown",
   "id": "223a8cf1",
   "metadata": {},
   "source": [
    "b. Use function inside() from part a. to write an expression that tests whether\n",
    "the point (1,1) lies in both of the following rectangles: one with lower left\n",
    "corner (0.3, 0.5) and upper right corner (1.1, 0.7) and the other with lower\n",
    "left corner (0.5, 0.2) and upper right corner (1.1, 2)."
   ]
  },
  {
   "cell_type": "code",
   "execution_count": 6,
   "id": "62a68d06",
   "metadata": {},
   "outputs": [
    {
     "name": "stdout",
     "output_type": "stream",
     "text": [
      "------------b-----------------\n",
      "\n",
      "The point (1,1) doesn't lie in both of the following rectangles\n",
      "\n",
      "inside(1,1,0.3,0.5,1.1,0.7):False\n",
      "inside(1,1,0.5,0.2,1.1,2):True\n"
     ]
    }
   ],
   "source": [
    "Console.WriteLine(\"------------b-----------------\\n\");\n",
    "if(inside(1,1,0.3,0.5,1.1,0.7) && inside(1,1,0.5,0.2,1.1,2)){\n",
    "    Console.WriteLine(\"the point (1,1) lies in both of the following rectangles\");\n",
    "}\n",
    "else{\n",
    "    Console.WriteLine(\"The point (1,1) doesn't lie in both of the following rectangles\");\n",
    "}\n",
    "Console.WriteLine($\"\\ninside(1,1,0.3,0.5,1.1,0.7):{inside(1,1,0.3,0.5,1.1,0.7)}\");\n",
    "Console.WriteLine($\"inside(1,1,0.5,0.2,1.1,2):{inside(1,1,0.5,0.2,1.1,2)}\");"
   ]
  },
  {
   "cell_type": "code",
   "execution_count": null,
   "id": "04c82f23",
   "metadata": {},
   "outputs": [],
   "source": []
  }
 ],
 "metadata": {
  "kernelspec": {
   "display_name": ".NET (C#)",
   "language": "C#",
   "name": ".net-csharp"
  },
  "language_info": {
   "file_extension": ".cs",
   "mimetype": "text/x-csharp",
   "name": "C#",
   "pygments_lexer": "csharp",
   "version": "9.0"
  }
 },
 "nbformat": 4,
 "nbformat_minor": 5
}

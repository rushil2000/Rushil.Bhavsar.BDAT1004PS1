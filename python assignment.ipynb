{
 "cells": [
  {
   "cell_type": "markdown",
   "id": "30f0a618",
   "metadata": {},
   "source": [
    "# Question 6"
   ]
  },
  {
   "cell_type": "markdown",
   "id": "441429ee",
   "metadata": {},
   "source": [
    " Write a function pig() that takes a word (i.e., a string) as input and returns its pigLatin form. Your function should still work if the input word contains upper case\n",
    "characters. Your output should always be lower case however. "
   ]
  },
  {
   "cell_type": "code",
   "execution_count": 1,
   "id": "86b9d06a",
   "metadata": {},
   "outputs": [
    {
     "name": "stdout",
     "output_type": "stream",
     "text": [
      "The output is:\n",
      "appyhay\n",
      "enterway\n",
      "==========================================================\n"
     ]
    }
   ],
   "source": [
    "vowel_letter=('a','e','i','o','u') \n",
    "def Pig_Latin(word):\n",
    "    if(word[0].lower() in vowel_letter):  #checking for vowels in first letter\n",
    "        print(word.lower()+'way')\n",
    "    else:\n",
    "        print(word[1:].lower()+word[0].lower()+'ay') \n",
    "print(\"The output is:\")\n",
    "Pig_Latin('happy')\n",
    "Pig_Latin('Enter')\n",
    "print(\"==========================================================\")"
   ]
  },
  {
   "cell_type": "markdown",
   "id": "b4c05759",
   "metadata": {},
   "source": [
    "# Question 7"
   ]
  },
  {
   "cell_type": "markdown",
   "id": "5195a6ff",
   "metadata": {},
   "source": [
    "File bloodtype1.txt records blood-types of patients (A, B, AB, O or OO) at a clinic.\n",
    "Write a function bldcount() that reads the file with name name and reports (i.e.,\n",
    "prints) how many patients there are in each bloodtype."
   ]
  },
  {
   "cell_type": "code",
   "execution_count": 2,
   "id": "48a27df3",
   "metadata": {},
   "outputs": [
    {
     "name": "stdout",
     "output_type": "stream",
     "text": [
      "There are 15 patients of blood type A.\n",
      "There is one patient of blood type B.\n",
      "There are 13 patients of blood type AB.\n",
      "There are 15 patients of blood type O.\n",
      "There are no patients of blood type OO.\n"
     ]
    }
   ],
   "source": [
    "def bloodcount():\n",
    "    infile = open('Downloads/bloodtype1.txt','r')\n",
    "    info=infile.read()\n",
    "    result=info.split()\n",
    "    bloodCount_A(result.count(\"A\"))          #each function will count the value of patients on the basis of bloodgroups.\n",
    "    bloodCount_B(result.count(\"B\"))          #if, elif, else will trigger on the basis of count of the patients.\n",
    "    bloodCount_AB(result.count(\"AB\"))\n",
    "    bloodCount_O(result.count(\"O\"))\n",
    "    bloodCount_OO(result.count(\"OO\"))\n",
    "    infile.close()\n",
    "def bloodCount_A(countA):\n",
    "    if(countA==0):\n",
    "        print('There are no patients of blood type A.')\n",
    "    elif(countA==1):\n",
    "        print(\"There is one patient of blood type A.\")\n",
    "    else:\n",
    "        print(\"There are \" + str(countA) + \" patients of blood type A.\")\n",
    "def bloodCount_B(countB):\n",
    "    if(countB==0):\n",
    "        print('There are no patients of blood type B.')\n",
    "    elif(countB==1):\n",
    "        print(\"There is one patient of blood type B.\")\n",
    "    else:\n",
    "        print(\"There are \" + str(countB) + \" patients of blood type B.\")\n",
    "def bloodCount_AB(countAB):\n",
    "    if(countAB==0):\n",
    "        print('There are no patients of blood type AB.')\n",
    "    elif(countAB==1):\n",
    "        print(\"There is one patient of blood type AB.\")\n",
    "    else:\n",
    "        print(\"There are \" + str(countAB) + \" patients of blood type AB.\")\n",
    "def bloodCount_O(countO):\n",
    "    if(countO==0):\n",
    "         print('There are no patients of blood type O.')\n",
    "    elif(countO==1):\n",
    "        print(\"There is one patient of blood type O.\")\n",
    "    else:\n",
    "        print(\"There are \" + str(countO) + \" patients of blood type O.\")\n",
    "def bloodCount_OO(countOO):\n",
    "    if(countOO==0):\n",
    "        print('There are no patients of blood type OO.')\n",
    "    elif(countOO==1):\n",
    "        print(\"There is one patient of blood type OO.\")\n",
    "    else:\n",
    "         print(\"There are \" + str(countOO) + \" patients of blood type OO.\")\n",
    "            \n",
    "print(\"The Output is:\")\n",
    "bloodcount()\n",
    "print(\"==========================================================\")"
   ]
  },
  {
   "cell_type": "markdown",
   "id": "e0d3bb31",
   "metadata": {},
   "source": [
    "# Question 8"
   ]
  },
  {
   "cell_type": "markdown",
   "id": "49bf52fe",
   "metadata": {},
   "source": [
    "Write a function curconv() that takes as input:\n",
    "1. a currency represented using a string (e.g., 'JPY' for the Japanese Yen or\n",
    "'EUR' for the Euro)\n",
    "2. an amount\n",
    "and then converts and returns the amount in US dollars."
   ]
  },
  {
   "cell_type": "code",
   "execution_count": 9,
   "id": "ddc140f1",
   "metadata": {},
   "outputs": [
    {
     "name": "stdout",
     "output_type": "stream",
     "text": [
      "Enter the currency :EUR\n",
      "Enter the currency :JPY\n"
     ]
    }
   ],
   "source": [
    "currencyEUR= input('Enter the currency :')    ## input for the Euro currency\n",
    "currencyJPY= input('Enter the currency :')    ## input for Japanese currency\n"
   ]
  },
  {
   "cell_type": "code",
   "execution_count": 10,
   "id": "4e5e0430",
   "metadata": {},
   "outputs": [
    {
     "name": "stdout",
     "output_type": "stream",
     "text": [
      "The output is:\n",
      "Your converted currency in US dollars from EUR : 122.96544\n",
      "Your converted currency in US dollars from JPY : 1.241401\n",
      "==========================================================\n"
     ]
    }
   ],
   "source": [
    "def currconv(curr,conv):             # function which takes 2 args one as a currency rate and other as exchange value\n",
    "    infile=open('Downloads\\currencies.txt')\n",
    "    info= infile.read()\n",
    "    result=info.split()         # splitting values with ,\n",
    "    #print(info)\n",
    "    #print(result)\n",
    "    infile.close()\n",
    "    if(curr in result):\n",
    "        pos = result.index(curr) + 1       # finding the next position(index) of the required currency\n",
    "        conv = float(result[pos]) * conv   # Accessing that value at particular index and converting to USD\n",
    "        print('Your converted currency in US dollars from ' + curr + ' : ' + str(conv))\n",
    "print(\"The output is:\")\n",
    "currconv(currencyEUR,100) \n",
    "currconv(currencyJPY,100)\n",
    "print(\"==========================================================\")"
   ]
  },
  {
   "cell_type": "markdown",
   "id": "34b4a4d1",
   "metadata": {},
   "source": [
    "# Question 9"
   ]
  },
  {
   "cell_type": "markdown",
   "id": "3393602d",
   "metadata": {},
   "source": [
    "Each of the following will cause an exception (an error). Identify what type of\n",
    "exception each will cause"
   ]
  },
  {
   "cell_type": "code",
   "execution_count": 2,
   "id": "09e29cf6",
   "metadata": {},
   "outputs": [
    {
     "ename": "TypeError",
     "evalue": "unsupported operand type(s) for +: 'int' and 'str'",
     "output_type": "error",
     "traceback": [
      "\u001b[1;31m---------------------------------------------------------------------------\u001b[0m",
      "\u001b[1;31mTypeError\u001b[0m                                 Traceback (most recent call last)",
      "\u001b[1;32m~\\AppData\\Local\\Temp/ipykernel_10304/1382024037.py\u001b[0m in \u001b[0;36m<module>\u001b[1;34m\u001b[0m\n\u001b[1;32m----> 1\u001b[1;33m \u001b[0ma\u001b[0m \u001b[1;33m=\u001b[0m \u001b[1;36m6\u001b[0m \u001b[1;33m+\u001b[0m \u001b[1;34m'a'\u001b[0m\u001b[1;33m;\u001b[0m\u001b[1;33m\u001b[0m\u001b[1;33m\u001b[0m\u001b[0m\n\u001b[0m\u001b[0;32m      2\u001b[0m \u001b[0mprint\u001b[0m\u001b[1;33m(\u001b[0m\u001b[0ma\u001b[0m\u001b[1;33m)\u001b[0m\u001b[1;33m\u001b[0m\u001b[1;33m\u001b[0m\u001b[0m\n",
      "\u001b[1;31mTypeError\u001b[0m: unsupported operand type(s) for +: 'int' and 'str'"
     ]
    }
   ],
   "source": [
    "a = 6 + 'a';\n",
    "print(a)\n"
   ]
  },
  {
   "cell_type": "code",
   "execution_count": 3,
   "id": "af7ef7b9",
   "metadata": {},
   "outputs": [
    {
     "ename": "IndexError",
     "evalue": "list index out of range",
     "output_type": "error",
     "traceback": [
      "\u001b[1;31m---------------------------------------------------------------------------\u001b[0m",
      "\u001b[1;31mIndexError\u001b[0m                                Traceback (most recent call last)",
      "\u001b[1;32m~\\AppData\\Local\\Temp/ipykernel_10304/1819191975.py\u001b[0m in \u001b[0;36m<module>\u001b[1;34m\u001b[0m\n\u001b[0;32m      1\u001b[0m \u001b[0ma\u001b[0m \u001b[1;33m=\u001b[0m \u001b[1;33m[\u001b[0m\u001b[1;36m1\u001b[0m\u001b[1;33m,\u001b[0m\u001b[1;36m2\u001b[0m\u001b[1;33m,\u001b[0m\u001b[1;36m3\u001b[0m\u001b[1;33m,\u001b[0m\u001b[1;36m4\u001b[0m\u001b[1;33m,\u001b[0m\u001b[1;36m5\u001b[0m\u001b[1;33m,\u001b[0m\u001b[1;36m6\u001b[0m\u001b[1;33m,\u001b[0m\u001b[1;36m7\u001b[0m\u001b[1;33m,\u001b[0m\u001b[1;36m8\u001b[0m\u001b[1;33m,\u001b[0m\u001b[1;36m9\u001b[0m\u001b[1;33m,\u001b[0m\u001b[1;36m10\u001b[0m\u001b[1;33m]\u001b[0m\u001b[1;33m;\u001b[0m\u001b[1;33m\u001b[0m\u001b[1;33m\u001b[0m\u001b[0m\n\u001b[1;32m----> 2\u001b[1;33m \u001b[0mprint\u001b[0m\u001b[1;33m(\u001b[0m\u001b[0ma\u001b[0m\u001b[1;33m[\u001b[0m\u001b[1;36m12\u001b[0m\u001b[1;33m]\u001b[0m\u001b[1;33m)\u001b[0m\u001b[1;33m\u001b[0m\u001b[1;33m\u001b[0m\u001b[0m\n\u001b[0m",
      "\u001b[1;31mIndexError\u001b[0m: list index out of range"
     ]
    }
   ],
   "source": [
    "a = [1,2,3,4,5,6,7,8,9,10];\n",
    "print(a[12])"
   ]
  },
  {
   "cell_type": "code",
   "execution_count": 23,
   "id": "4d99dad8",
   "metadata": {},
   "outputs": [
    {
     "ename": "ValueError",
     "evalue": "math domain error",
     "output_type": "error",
     "traceback": [
      "\u001b[1;31m---------------------------------------------------------------------------\u001b[0m",
      "\u001b[1;31mValueError\u001b[0m                                Traceback (most recent call last)",
      "\u001b[1;32m~\\AppData\\Local\\Temp/ipykernel_10304/420012812.py\u001b[0m in \u001b[0;36m<module>\u001b[1;34m\u001b[0m\n\u001b[0;32m      1\u001b[0m \u001b[1;32mimport\u001b[0m \u001b[0mmath\u001b[0m\u001b[1;33m\u001b[0m\u001b[1;33m\u001b[0m\u001b[0m\n\u001b[1;32m----> 2\u001b[1;33m \u001b[0mprint\u001b[0m\u001b[1;33m(\u001b[0m\u001b[0mmath\u001b[0m\u001b[1;33m.\u001b[0m\u001b[0msqrt\u001b[0m\u001b[1;33m(\u001b[0m\u001b[1;33m-\u001b[0m\u001b[1;36m1\u001b[0m\u001b[1;33m)\u001b[0m\u001b[1;33m)\u001b[0m\u001b[1;33m\u001b[0m\u001b[1;33m\u001b[0m\u001b[0m\n\u001b[0m",
      "\u001b[1;31mValueError\u001b[0m: math domain error"
     ]
    }
   ],
   "source": [
    "import math\n",
    "print(math.sqrt(-1))"
   ]
  },
  {
   "cell_type": "code",
   "execution_count": 5,
   "id": "e8624221",
   "metadata": {},
   "outputs": [
    {
     "ename": "NameError",
     "evalue": "name 'x' is not defined",
     "output_type": "error",
     "traceback": [
      "\u001b[1;31m---------------------------------------------------------------------------\u001b[0m",
      "\u001b[1;31mNameError\u001b[0m                                 Traceback (most recent call last)",
      "\u001b[1;32m~\\AppData\\Local\\Temp/ipykernel_10304/1353120783.py\u001b[0m in \u001b[0;36m<module>\u001b[1;34m\u001b[0m\n\u001b[1;32m----> 1\u001b[1;33m \u001b[0mprint\u001b[0m\u001b[1;33m(\u001b[0m\u001b[0mx\u001b[0m\u001b[1;33m)\u001b[0m\u001b[1;33m\u001b[0m\u001b[1;33m\u001b[0m\u001b[0m\n\u001b[0m",
      "\u001b[1;31mNameError\u001b[0m: name 'x' is not defined"
     ]
    }
   ],
   "source": [
    "print(x)"
   ]
  },
  {
   "cell_type": "code",
   "execution_count": 6,
   "id": "4c25e44f",
   "metadata": {},
   "outputs": [
    {
     "ename": "FileNotFoundError",
     "evalue": "[Errno 2] No such file or directory: 'S:/currencies.txt'",
     "output_type": "error",
     "traceback": [
      "\u001b[1;31m---------------------------------------------------------------------------\u001b[0m",
      "\u001b[1;31mFileNotFoundError\u001b[0m                         Traceback (most recent call last)",
      "\u001b[1;32m~\\AppData\\Local\\Temp/ipykernel_10304/816275441.py\u001b[0m in \u001b[0;36m<module>\u001b[1;34m\u001b[0m\n\u001b[1;32m----> 1\u001b[1;33m \u001b[0minfile\u001b[0m\u001b[1;33m=\u001b[0m\u001b[0mopen\u001b[0m\u001b[1;33m(\u001b[0m\u001b[1;34m'S:/currencies.txt'\u001b[0m\u001b[1;33m)\u001b[0m\u001b[1;33m\u001b[0m\u001b[1;33m\u001b[0m\u001b[0m\n\u001b[0m\u001b[0;32m      2\u001b[0m \u001b[0minfo\u001b[0m\u001b[1;33m=\u001b[0m \u001b[0minfile\u001b[0m\u001b[1;33m.\u001b[0m\u001b[0mread\u001b[0m\u001b[1;33m(\u001b[0m\u001b[1;33m)\u001b[0m\u001b[1;33m\u001b[0m\u001b[1;33m\u001b[0m\u001b[0m\n",
      "\u001b[1;31mFileNotFoundError\u001b[0m: [Errno 2] No such file or directory: 'S:/currencies.txt'"
     ]
    }
   ],
   "source": [
    "infile=open('S:/currencies.txt')\n",
    "info= infile.read()"
   ]
  },
  {
   "cell_type": "markdown",
   "id": "d721f5cd",
   "metadata": {},
   "source": [
    "# Question 10"
   ]
  },
  {
   "cell_type": "markdown",
   "id": "146c081f",
   "metadata": {},
   "source": [
    " Write a function called frequencies()\n",
    "that takes a string as its only parameter, and returns a list of integers, showing the\n",
    "number of times each character appears in the text. Your function may ignore any\n",
    "characters that are not in letters.\n"
   ]
  },
  {
   "cell_type": "code",
   "execution_count": 12,
   "id": "1f3c2433",
   "metadata": {},
   "outputs": [
    {
     "name": "stdout",
     "output_type": "stream",
     "text": [
      "The Output is:-\n",
      "1,1,1,3,5,1,1,2,1,0,1,0,1,2,4,0,1,2,0,2,1,0,1,1,0,0,\n",
      "\n",
      "1,0,0,0,1,0,0,0,0,0,0,1,0,0,0,2,0,0,0,0,0,0,0,0,0,0,\n",
      "\n",
      "==========================================================\n"
     ]
    }
   ],
   "source": [
    "def length(word):\n",
    "    lst=['a','b','c','d','e','f','g','h','i','j','k','l','m','n','o','p','q','r','s','t','u','v','w','x','y','z']\n",
    "    inputWord= word\n",
    "    Length_lst=len(lst)     # couting length of a list\n",
    "    for i in range(0,Length_lst):       # range has been set till the lenth of a list\n",
    "        data= inputWord.count(lst[i])   # couning each occurance of a letter from a sentence on the basis of a list\n",
    "        lst1 = str(data)\n",
    "        print(lst1,end= \",\" )\n",
    "        \n",
    "print(\"The Output is:-\")\n",
    "length('The quick red fox got bored and went home.')\n",
    "print(\"\\n\")\n",
    "length('apple')\n",
    "print(\"\\n\")\n",
    "print(\"==========================================================\")"
   ]
  },
  {
   "cell_type": "code",
   "execution_count": null,
   "id": "9dccfbd3",
   "metadata": {},
   "outputs": [],
   "source": []
  }
 ],
 "metadata": {
  "kernelspec": {
   "display_name": "Python 3 (ipykernel)",
   "language": "python",
   "name": "python3"
  },
  "language_info": {
   "codemirror_mode": {
    "name": "ipython",
    "version": 3
   },
   "file_extension": ".py",
   "mimetype": "text/x-python",
   "name": "python",
   "nbconvert_exporter": "python",
   "pygments_lexer": "ipython3",
   "version": "3.9.7"
  }
 },
 "nbformat": 4,
 "nbformat_minor": 5
}
